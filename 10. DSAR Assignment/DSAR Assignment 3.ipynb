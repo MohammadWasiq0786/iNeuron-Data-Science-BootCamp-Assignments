{
 "cells": [
  {
   "cell_type": "markdown",
   "id": "06f10b11-8e8d-4a78-af31-42d3d40bacc8",
   "metadata": {},
   "source": [
    "![image](https://user-images.githubusercontent.com/57321948/196933065-4b16c235-f3b9-4391-9cfe-4affcec87c35.png)\n",
    "\n",
    "# Name : Mohammad Wasiq\n",
    "## Email : gl0427@myamu.ac.in\n",
    "### DSAR Assignment 03"
   ]
  },
  {
   "cell_type": "markdown",
   "id": "34b77363-5e07-4844-a04a-a2fed0903c5c",
   "metadata": {},
   "source": [
    "**1. What types of AI-based business intelligence applications are currently used in\n",
    "insurance?**"
   ]
  },
  {
   "cell_type": "markdown",
   "id": "3eaee04d-248f-430c-840e-a6f3d034c1aa",
   "metadata": {},
   "source": [
    "**Ans:** \n",
    "1. **Automated Claims Processing:** AI-enabled software can be used to expedite the claims processing process, reducing the time and cost of manual claims processing.\n",
    "2. **Risk Analysis and Modeling:** AI-enabled software can be used to analyze customer data and build predictive models to identify risk factors and optimize pricing.\n",
    "3. **Automated Customer Service:** AI-enabled chatbots can provide automated customer service, allowing customers to quickly and easily get answers to their questions.\n",
    "4. **Fraud Detection:** AI-enabled software can be used to detect suspicious claims and other fraudulent activities.\n",
    "5. **Underwriting Automation:** AI-enabled software can be used to automate the underwriting process, allowing insurers to quickly and accurately assess risk.\n",
    "6. **Personalized Insurance Products:** AI-enabled software can be used to create personalized insurance products based on customer data and lifestyle."
   ]
  },
  {
   "cell_type": "markdown",
   "id": "e7c213b6-24a8-485e-ba49-2ec16c601f5b",
   "metadata": {},
   "source": [
    "**2. What are the applications and techniques of artificial intelligence?**"
   ]
  },
  {
   "cell_type": "markdown",
   "id": "4400a475-8fd8-450c-b8df-888955219a5d",
   "metadata": {},
   "source": [
    "**Ans**\n",
    "\n",
    "1. **Natural Language Processing (NLP):** Natural language processing (NLP) is a branch of artificial intelligence that focuses on enabling computers to understand, interpret, and manipulate human language. It is used for tasks such as automatic summarization, text classification, sentiment analysis, speech recognition, and machine translation. \n",
    "\n",
    "2. **Machine Learning:** Machine learning is a subset of artificial intelligence that uses algorithms to identify patterns in data and make predictions or decisions. It is used for tasks such as facial recognition, object recognition, and predicting customer behavior. \n",
    "\n",
    "3. **Robotics:** Robotics is the branch of artificial intelligence that deals with the design, construction, and programming of robots. It is used for tasks such as assembling products, exploring dangerous environments, and helping with medical surgeries. \n",
    "\n",
    "4. **Computer Vision:** Computer vision is a branch of artificial intelligence that focuses on enabling computers to interpret and understand the visual world. It is used for tasks such as image classification, object detection, and facial recognition. \n",
    "\n",
    "5. **Expert Systems:** Expert systems are a branch of artificial intelligence that uses knowledge-based systems to solve complex problems. It is used for tasks such as medical diagnosis, financial analysis, and legal advice. \n",
    "\n",
    "6. **Neural Networks:** Neural networks are a branch of artificial intelligence that uses networks of interconnected nodes to simulate the behavior of biological neurons. It is used for tasks such as image recognition, speech recognition, and language translation. \n",
    "\n",
    "7. **Deep Learning:** Deep learning is a branch of artificial intelligence that uses multi-layered artificial neural networks to learn from large datasets. It is used for tasks such as image recognition, natural language processing, and autonomous driving."
   ]
  },
  {
   "cell_type": "markdown",
   "id": "1ab74a0d-a0c8-4735-ba76-dca80ac40779",
   "metadata": {},
   "source": [
    "**3. What is the difference between security and surveillance?**"
   ]
  },
  {
   "cell_type": "markdown",
   "id": "fea8a949-053d-49d0-b52b-22b03a8ef663",
   "metadata": {},
   "source": [
    "**Ans:** Security is the protection of assets from harm, while surveillance is the monitoring of people or property to detect activity that could be a threat. Security focuses on preventing and deterring threats, while surveillance is a proactive measure to detect potential threats. Surveillance is used to gather information to provide a higher level of security."
   ]
  },
  {
   "cell_type": "markdown",
   "id": "a9df10a8-8be8-4a49-aa24-5e29e00a51fc",
   "metadata": {},
   "source": [
    "**4. Can AI be used for security?**"
   ]
  },
  {
   "cell_type": "markdown",
   "id": "17b81d40-dd17-4ded-bdf2-0cdfc842e240",
   "metadata": {},
   "source": [
    "**Ans:** Yes, AI can be used for security purposes. AI can be used to detect and prevent cyber threats, such as malware, phishing and other malicious activities. AI can also be used to analyze large data sets to detect anomalies and potential security threats. AI can also be used to automate authentication, access control, and other security processes."
   ]
  },
  {
   "cell_type": "markdown",
   "id": "dca4e453-b2cb-4981-88de-255d2fdfc549",
   "metadata": {},
   "source": [
    "**5. How does AI improve security?**"
   ]
  },
  {
   "cell_type": "markdown",
   "id": "d2f26fb4-12c4-49e2-9fff-e942c7bcc1aa",
   "metadata": {},
   "source": [
    "**Ans:** AI can be used to improve security in a variety of ways. AI can be used to detect network anomalies and suspicious behavior, filter out malicious content, and detect security threats in real-time. AI can also be used to automate processes such as patching and system updates, making it easier to stay up to date with security best practices. Additionally, AI can be used to analyze large datasets to uncover hidden trends and patterns, allowing security teams to proactively identify and respond to threats before they cause damage."
   ]
  }
 ],
 "metadata": {
  "kernelspec": {
   "display_name": "Python 3 (ipykernel)",
   "language": "python",
   "name": "python3"
  },
  "language_info": {
   "codemirror_mode": {
    "name": "ipython",
    "version": 3
   },
   "file_extension": ".py",
   "mimetype": "text/x-python",
   "name": "python",
   "nbconvert_exporter": "python",
   "pygments_lexer": "ipython3",
   "version": "3.9.12"
  },
  "latex_envs": {
   "LaTeX_envs_menu_present": true,
   "autoclose": false,
   "autocomplete": true,
   "bibliofile": "biblio.bib",
   "cite_by": "apalike",
   "current_citInitial": 1,
   "eqLabelWithNumbers": true,
   "eqNumInitial": 1,
   "hotkeys": {
    "equation": "Ctrl-E",
    "itemize": "Ctrl-I"
   },
   "labels_anchors": false,
   "latex_user_defs": false,
   "report_style_numbering": false,
   "user_envs_cfg": false
  },
  "nbTranslate": {
   "displayLangs": [
    "*"
   ],
   "hotkey": "alt-t",
   "langInMainMenu": true,
   "sourceLang": "en",
   "targetLang": "fr",
   "useGoogleTranslate": true
  },
  "toc": {
   "base_numbering": 1,
   "nav_menu": {},
   "number_sections": true,
   "sideBar": true,
   "skip_h1_title": false,
   "title_cell": "Table of Contents",
   "title_sidebar": "Contents",
   "toc_cell": false,
   "toc_position": {},
   "toc_section_display": true,
   "toc_window_display": false
  },
  "varInspector": {
   "cols": {
    "lenName": 16,
    "lenType": 16,
    "lenVar": 40
   },
   "kernels_config": {
    "python": {
     "delete_cmd_postfix": "",
     "delete_cmd_prefix": "del ",
     "library": "var_list.py",
     "varRefreshCmd": "print(var_dic_list())"
    },
    "r": {
     "delete_cmd_postfix": ") ",
     "delete_cmd_prefix": "rm(",
     "library": "var_list.r",
     "varRefreshCmd": "cat(var_dic_list()) "
    }
   },
   "types_to_exclude": [
    "module",
    "function",
    "builtin_function_or_method",
    "instance",
    "_Feature"
   ],
   "window_display": false
  }
 },
 "nbformat": 4,
 "nbformat_minor": 5
}

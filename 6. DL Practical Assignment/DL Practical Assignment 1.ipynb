{
 "cells": [
  {
   "cell_type": "markdown",
   "id": "06f10b11-8e8d-4a78-af31-42d3d40bacc8",
   "metadata": {},
   "source": [
    "![image](https://user-images.githubusercontent.com/57321948/196933065-4b16c235-f3b9-4391-9cfe-4affcec87c35.png)\n",
    "\n",
    "# Name : Mohammad Wasiq\n",
    "## Email : gl0427@myamu.ac.in\n",
    "### Deep Learning Practical Assignment 01"
   ]
  },
  {
   "cell_type": "markdown",
   "id": "8b7f1fab-9a0d-4e7f-894a-76e99ca08edc",
   "metadata": {},
   "source": [
    "**Objective: -** Predict Next Sequence\n",
    "To start with deep learning, the very basic project that you can build is to\n",
    "predict the next digit in a sequence.\n",
    "\n",
    "**Dataset: -** Create a sequence like a list of odd numbers and then build a model\n",
    "and train it to predict the next digit in the sequence.\n",
    "\n",
    "**Task: -** A simple neural network with 2 layers would be sufficient to build the\n",
    "model."
   ]
  },
  {
   "cell_type": "code",
   "execution_count": 1,
   "id": "9e0bb8ce-96a6-42ff-8c8d-30b23e93bb3f",
   "metadata": {
    "tags": []
   },
   "outputs": [],
   "source": [
    "import numpy as np\n",
    "from tensorflow import keras\n",
    "from tensorflow.keras.models import Sequential\n",
    "from tensorflow.keras.layers import Dense"
   ]
  },
  {
   "cell_type": "code",
   "execution_count": 2,
   "id": "634c9ab2-e0ba-405b-af7f-958cb03564c8",
   "metadata": {
    "tags": []
   },
   "outputs": [],
   "source": [
    "# Create a sequence of odd numbers\n",
    "data = np.array([1, 3, 5, 7, 9, 11, 13, 15])"
   ]
  },
  {
   "cell_type": "code",
   "execution_count": 3,
   "id": "6c8849f7-d5dd-4a31-8a3a-241de8d40ae6",
   "metadata": {
    "tags": []
   },
   "outputs": [],
   "source": [
    "# Split the data into input (X) and output (y) variables\n",
    "X = data[:-1]\n",
    "y = data[1:]"
   ]
  },
  {
   "cell_type": "code",
   "execution_count": 4,
   "id": "e5419b7d-304b-4d10-91e5-ef6d4eba2dcf",
   "metadata": {
    "tags": []
   },
   "outputs": [],
   "source": [
    "# Define the model\n",
    "model = Sequential()\n",
    "model.add(Dense(2, input_dim=1))\n",
    "model.add(Dense(1))\n",
    "model.compile(loss='mean_squared_error', optimizer='adam')"
   ]
  },
  {
   "cell_type": "code",
   "execution_count": 5,
   "id": "07120b71-70a1-4d42-8529-76bebb71cd24",
   "metadata": {
    "tags": []
   },
   "outputs": [
    {
     "data": {
      "text/plain": [
       "<tensorflow.python.keras.callbacks.History at 0x1e438752490>"
      ]
     },
     "execution_count": 5,
     "metadata": {},
     "output_type": "execute_result"
    }
   ],
   "source": [
    "# Fit the model to the data\n",
    "model.fit(X, y, epochs=2000, verbose=0)"
   ]
  },
  {
   "cell_type": "code",
   "execution_count": 6,
   "id": "8ad04607-800a-46b3-b4bd-02fd2242f73c",
   "metadata": {
    "tags": []
   },
   "outputs": [
    {
     "name": "stdout",
     "output_type": "stream",
     "text": [
      "Predicted: 19.004353\n"
     ]
    }
   ],
   "source": [
    "# Make a prediction for the next digit in the sequence\n",
    "x_input = np.array([17])\n",
    "x_input = x_input.reshape((1, 1))\n",
    "yhat = model.predict(x_input)\n",
    "print('Predicted:', yhat[0][0])"
   ]
  }
 ],
 "metadata": {
  "kernelspec": {
   "display_name": "Python 3 (ipykernel)",
   "language": "python",
   "name": "python3"
  },
  "language_info": {
   "codemirror_mode": {
    "name": "ipython",
    "version": 3
   },
   "file_extension": ".py",
   "mimetype": "text/x-python",
   "name": "python",
   "nbconvert_exporter": "python",
   "pygments_lexer": "ipython3",
   "version": "3.9.12"
  },
  "latex_envs": {
   "LaTeX_envs_menu_present": true,
   "autoclose": false,
   "autocomplete": true,
   "bibliofile": "biblio.bib",
   "cite_by": "apalike",
   "current_citInitial": 1,
   "eqLabelWithNumbers": true,
   "eqNumInitial": 1,
   "hotkeys": {
    "equation": "Ctrl-E",
    "itemize": "Ctrl-I"
   },
   "labels_anchors": false,
   "latex_user_defs": false,
   "report_style_numbering": false,
   "user_envs_cfg": false
  },
  "nbTranslate": {
   "displayLangs": [
    "*"
   ],
   "hotkey": "alt-t",
   "langInMainMenu": true,
   "sourceLang": "en",
   "targetLang": "fr",
   "useGoogleTranslate": true
  },
  "toc": {
   "base_numbering": 1,
   "nav_menu": {},
   "number_sections": true,
   "sideBar": true,
   "skip_h1_title": false,
   "title_cell": "Table of Contents",
   "title_sidebar": "Contents",
   "toc_cell": false,
   "toc_position": {},
   "toc_section_display": true,
   "toc_window_display": false
  },
  "varInspector": {
   "cols": {
    "lenName": 16,
    "lenType": 16,
    "lenVar": 40
   },
   "kernels_config": {
    "python": {
     "delete_cmd_postfix": "",
     "delete_cmd_prefix": "del ",
     "library": "var_list.py",
     "varRefreshCmd": "print(var_dic_list())"
    },
    "r": {
     "delete_cmd_postfix": ") ",
     "delete_cmd_prefix": "rm(",
     "library": "var_list.r",
     "varRefreshCmd": "cat(var_dic_list()) "
    }
   },
   "types_to_exclude": [
    "module",
    "function",
    "builtin_function_or_method",
    "instance",
    "_Feature"
   ],
   "window_display": false
  }
 },
 "nbformat": 4,
 "nbformat_minor": 5
}

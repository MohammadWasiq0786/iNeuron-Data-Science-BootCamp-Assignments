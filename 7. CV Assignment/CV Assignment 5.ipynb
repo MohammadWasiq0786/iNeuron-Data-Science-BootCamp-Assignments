{
 "cells": [
  {
   "cell_type": "markdown",
   "id": "06f10b11-8e8d-4a78-af31-42d3d40bacc8",
   "metadata": {},
   "source": [
    "![image](https://user-images.githubusercontent.com/57321948/196933065-4b16c235-f3b9-4391-9cfe-4affcec87c35.png)\n",
    "\n",
    "# Name : Mohammad Wasiq\n",
    "## Email : gl0427@myamu.ac.in\n",
    "### Computer Vision Assignment 05"
   ]
  },
  {
   "cell_type": "markdown",
   "id": "d325e302-1df8-4704-85fc-83c737e2b129",
   "metadata": {},
   "source": [
    "**1. How can each of these parameters be fine-tuned?**\n",
    "\n",
    "**• Number of hidden layers:** The number of hidden layers can be fine-tuned by adjusting the complexity of the model, such as the number of neurons in each layer and the number of connections between layers.\n",
    "\n",
    "**• Network architecture (network depth):**  Network architecture can be fine-tuned by changing the number of layers in the neural network and the number of neurons in each layer. This can be done by experimenting with different combinations of layers and neurons to find the best configuration for the specific neural network task.\n",
    "\n",
    "**• Each layer&#39;s number of neurons (layer width):** To fine-tune the number of neurons in a given layer, we can use hyperparameter optimization techniques such as grid search, random search, or Bayesian optimization.\n",
    "\n",
    "**• Form of activation:** The form of the activation function can be fine-tuned by changing the parameters used to define the function. For example, if the chosen activation function is a sigmoid function, the parameters to be fine-tuned include the slope of the curve and the intercept. \n",
    "\n",
    "**• Optimization and learning:** Optimization and learning can be fine-tuned by adjusting the parameters of the optimization algorithm and the learning rate. This includes changing the batch size, the number of epochs, the type of optimizer, the initial learning rate, the decay rate, and the momentum rate. Additionally, hyperparameter tuning can be used to fine-tune the model by adjusting the values of the hyperparameters.\n",
    "\n",
    "**• Learning rate and decay schedule:** The learning rate and decay schedule can be fine-tuned by adjusting the initial learning rate, the decay rate, and the decay step. The initial learning rate should be set to a high enough value to ensure that the model is making meaningful progress, while not so high that the model is unable to learn effectively, leading to instability. The decay rate should be set to a value that will sufficiently reduce the learning rate over time, while not reducing it so quickly that the model is unable to learn effectively. Finally, the decay step should be set to a value that will allow for a sufficient reduction in learning rate over time, while not reducing it too quickly.\n",
    "\n",
    "**• Mini batch size:** Mini batch size can be fine-tuned by trial-and-error approach. Sometimes, a smaller batch size can help the model generalize better. \n",
    "\n",
    "**• Algorithms for optimization:** Different algorithms for optimization, such as gradient descent, stochastic gradient descent, Adam and so on, can be used to fine-tune the parameters of a model.\n",
    "\n",
    "**• The number of epochs (and early stopping criteria):**  can be fine-tuned using cross-validation and monitoring the validation loss.\n",
    "\n",
    "**• Overfitting that be avoided by using regularization techniques.** Regularization is a technique used to reduce the complexity of a model by limiting the magnitude of the model parameters. This can help prevent overfitting by penalizing large weights and providing a smoother fit to the data. Regularization techniques can be used to fine-tune a model’s parameters by adjusting the penalty applied to large weights, or by introducing a penalty for large weights. Regularization techniques can also be used to reduce the likelihood of overfitting by forcing the model to be more general.\n",
    "\n",
    "**• L2 normalization:** L2 normalization can be fine-tuned by adjusting the regularization strength parameter, which controls the strength of the regularization term in the loss function. \n",
    "\n",
    "**• Drop out layers:** Dropout layers are a type of regularization technique that helps reduce overfitting by randomly “dropping out” certain neurons, or nodes, from the network during training. This prevents the neurons from over-fitting the training data by forcing the network to learn multiple independent representations of the same data. Dropout rate and number of dropouts can be fine-tuned by adjusting the hyperparameters. \n",
    "\n",
    "**• Data augmentation:** Data augmentation techniques, such as flipping, cropping, and adding noise, can be used to increase the size of the training dataset and help improve the performance of the model."
   ]
  }
 ],
 "metadata": {
  "kernelspec": {
   "display_name": "Python 3 (ipykernel)",
   "language": "python",
   "name": "python3"
  },
  "language_info": {
   "codemirror_mode": {
    "name": "ipython",
    "version": 3
   },
   "file_extension": ".py",
   "mimetype": "text/x-python",
   "name": "python",
   "nbconvert_exporter": "python",
   "pygments_lexer": "ipython3",
   "version": "3.9.12"
  },
  "latex_envs": {
   "LaTeX_envs_menu_present": true,
   "autoclose": false,
   "autocomplete": true,
   "bibliofile": "biblio.bib",
   "cite_by": "apalike",
   "current_citInitial": 1,
   "eqLabelWithNumbers": true,
   "eqNumInitial": 1,
   "hotkeys": {
    "equation": "Ctrl-E",
    "itemize": "Ctrl-I"
   },
   "labels_anchors": false,
   "latex_user_defs": false,
   "report_style_numbering": false,
   "user_envs_cfg": false
  },
  "nbTranslate": {
   "displayLangs": [
    "*"
   ],
   "hotkey": "alt-t",
   "langInMainMenu": true,
   "sourceLang": "en",
   "targetLang": "fr",
   "useGoogleTranslate": true
  },
  "toc": {
   "base_numbering": 1,
   "nav_menu": {},
   "number_sections": true,
   "sideBar": true,
   "skip_h1_title": false,
   "title_cell": "Table of Contents",
   "title_sidebar": "Contents",
   "toc_cell": false,
   "toc_position": {},
   "toc_section_display": true,
   "toc_window_display": false
  },
  "varInspector": {
   "cols": {
    "lenName": 16,
    "lenType": 16,
    "lenVar": 40
   },
   "kernels_config": {
    "python": {
     "delete_cmd_postfix": "",
     "delete_cmd_prefix": "del ",
     "library": "var_list.py",
     "varRefreshCmd": "print(var_dic_list())"
    },
    "r": {
     "delete_cmd_postfix": ") ",
     "delete_cmd_prefix": "rm(",
     "library": "var_list.r",
     "varRefreshCmd": "cat(var_dic_list()) "
    }
   },
   "types_to_exclude": [
    "module",
    "function",
    "builtin_function_or_method",
    "instance",
    "_Feature"
   ],
   "window_display": false
  },
  "vscode": {
   "interpreter": {
    "hash": "94f538a246db0fa2df5e0015ac38ebae58f4075808dc245f921dd0fb55023058"
   }
  }
 },
 "nbformat": 4,
 "nbformat_minor": 5
}

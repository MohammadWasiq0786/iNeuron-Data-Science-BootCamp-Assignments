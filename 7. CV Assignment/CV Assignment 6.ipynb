{
 "cells": [
  {
   "cell_type": "markdown",
   "id": "06f10b11-8e8d-4a78-af31-42d3d40bacc8",
   "metadata": {},
   "source": [
    "![image](https://user-images.githubusercontent.com/57321948/196933065-4b16c235-f3b9-4391-9cfe-4affcec87c35.png)\n",
    "\n",
    "# Name : Mohammad Wasiq\n",
    "## Email : gl0427@myamu.ac.in\n",
    "### Computer Vision Assignment 06"
   ]
  },
  {
   "cell_type": "markdown",
   "id": "c25716e7-9ce8-4f78-8f3f-812ff240de48",
   "metadata": {},
   "source": [
    "**1. What is the difference between TRAINABLE and NON-TRAINABLE PARAMETERS?**\n",
    "\n",
    "**Ans:** Trainable parameters are parameters that are manipulated by the learning algorithm during the training process, such as weights and biases in a neural network. Non-trainable parameters are parameters that remain fixed during the training process, such as the number of layers or the activation function in a neural network."
   ]
  },
  {
   "cell_type": "markdown",
   "id": "e81f4f7e-c806-4411-8c6d-efe9a75d33cc",
   "metadata": {},
   "source": [
    "**2. In the CNN architecture, where does the DROPOUT LAYER go?**\n",
    "\n",
    "**Ans:** The dropout layer typically goes after the fully connected layers and before the output layer."
   ]
  },
  {
   "cell_type": "markdown",
   "id": "186fa266-b9c9-4d31-ba0a-1226e2ec580c",
   "metadata": {},
   "source": [
    "**3. What is the optimal number of hidden layers to stack?**\n",
    "\n",
    "**Ans:** The optimal number of hidden layers to stack depends on the complexity of the data and the type of neural network being used. Generally, more complex data requires more layers, whereas simpler data may require fewer layers. Generally, a range of 1 to 4 hidden layers is recommended, although in some cases more may be necessary."
   ]
  },
  {
   "cell_type": "markdown",
   "id": "e10008f2-6c93-483d-a9ff-dd3f3f5297ab",
   "metadata": {},
   "source": [
    "**4. In each layer, how many secret units or filters should there be?**\n",
    "\n",
    "**Ans:** The number of secret units or filters in each layer will depend on the specific problem that the neural network is trying to solve. Generally, the more complex the problem, the more units or filters in each layer."
   ]
  },
  {
   "cell_type": "markdown",
   "id": "35731ea3-5760-4cb7-bea4-ebe455fa493c",
   "metadata": {},
   "source": [
    "**5. What should your initial learning rate be?**\n",
    "\n",
    "**Ans:** The initial learning rate should be determined based on the type of problem that is being solved and the type of model being used. A general rule of thumb is to start with a small learning rate (e.g. 0.001) and increase it gradually as the model learns more."
   ]
  },
  {
   "cell_type": "markdown",
   "id": "66654605-7c79-4285-907b-731fd0115fc8",
   "metadata": {},
   "source": [
    "**6. What do you do with the activation function?**\n",
    "\n",
    "**Ans:** The activation function is used to introduce non-linearity into the neural network. It is used to determine the output of the neural network based on the input and the weights of the neurons. The activation function is usually applied after the weighted sum of the inputs is calculated to determine the output of a neuron."
   ]
  },
  {
   "cell_type": "markdown",
   "id": "f06a0fc4-f85f-4097-a22b-2c2fdc0e0bb9",
   "metadata": {},
   "source": [
    "**7. What is NORMALIZATION OF DATA?**\n",
    "\n",
    "**Ans:** Normalization of data is the process of organizing a database to reduce data redundancy and improve data integrity. It involves dividing a database into two or more tables and defining relationships between the tables. Normalization usually involves dividing a database table into smaller tables and defining relationships between them. The goal is to isolate data so that additions, deletions, and modifications of a field can be made in just one table and then propagated through the rest of the database using the defined relationships."
   ]
  },
  {
   "cell_type": "markdown",
   "id": "44cf98fb-86b3-450c-925d-37b2063f58dd",
   "metadata": {},
   "source": [
    "**8. What is IMAGE AUGMENTATION and how does it work?**\n",
    "\n",
    "**Ans:** Image augmentation is a technique used to increase the size and diversity of a dataset of images by applying various transformations to each image in the dataset. These transformations can include rotation, scaling, flips, noise, and a variety of other effects. By applying these transformations to each image, it results in a larger dataset of images with different characteristics, which can be used to improve the performance of machine learning models."
   ]
  },
  {
   "cell_type": "markdown",
   "id": "5ac27fbc-2c37-472a-a706-56313d9824b4",
   "metadata": {},
   "source": [
    "**9. What is DECLINE IN LEARNING RATE?**\n",
    "\n",
    "**Ans:** Decline in learning rate is a phenomenon in which a student's ability to learn, retain, and recall information decreases over time. It can be caused by a number of factors, including fatigue, lack of motivation, boredom, and poor teaching methods. It is important for educators to recognize the signs of a decline in learning rate and provide students with the necessary tools and resources to help them improve their learning."
   ]
  },
  {
   "cell_type": "markdown",
   "id": "69cfb1da-ae39-4dd3-a021-dfe925166c3d",
   "metadata": {},
   "source": [
    "**What does EARLY STOPPING CRITERIA mean?**\n",
    "\n",
    "**Ans:** Early stopping criteria is a method used in machine learning to determine when to stop training a model. It monitors the performance of the model, such as accuracy and loss, and stops training when the performance has reached a certain threshold or plateau. This prevents the model from overfitting and ensures that the model is as accurate and efficient as possible."
   ]
  }
 ],
 "metadata": {
  "kernelspec": {
   "display_name": "Python 3 (ipykernel)",
   "language": "python",
   "name": "python3"
  },
  "language_info": {
   "codemirror_mode": {
    "name": "ipython",
    "version": 3
   },
   "file_extension": ".py",
   "mimetype": "text/x-python",
   "name": "python",
   "nbconvert_exporter": "python",
   "pygments_lexer": "ipython3",
   "version": "3.9.12"
  },
  "latex_envs": {
   "LaTeX_envs_menu_present": true,
   "autoclose": false,
   "autocomplete": true,
   "bibliofile": "biblio.bib",
   "cite_by": "apalike",
   "current_citInitial": 1,
   "eqLabelWithNumbers": true,
   "eqNumInitial": 1,
   "hotkeys": {
    "equation": "Ctrl-E",
    "itemize": "Ctrl-I"
   },
   "labels_anchors": false,
   "latex_user_defs": false,
   "report_style_numbering": false,
   "user_envs_cfg": false
  },
  "nbTranslate": {
   "displayLangs": [
    "*"
   ],
   "hotkey": "alt-t",
   "langInMainMenu": true,
   "sourceLang": "en",
   "targetLang": "fr",
   "useGoogleTranslate": true
  },
  "toc": {
   "base_numbering": 1,
   "nav_menu": {},
   "number_sections": true,
   "sideBar": true,
   "skip_h1_title": false,
   "title_cell": "Table of Contents",
   "title_sidebar": "Contents",
   "toc_cell": false,
   "toc_position": {},
   "toc_section_display": true,
   "toc_window_display": false
  },
  "varInspector": {
   "cols": {
    "lenName": 16,
    "lenType": 16,
    "lenVar": 40
   },
   "kernels_config": {
    "python": {
     "delete_cmd_postfix": "",
     "delete_cmd_prefix": "del ",
     "library": "var_list.py",
     "varRefreshCmd": "print(var_dic_list())"
    },
    "r": {
     "delete_cmd_postfix": ") ",
     "delete_cmd_prefix": "rm(",
     "library": "var_list.r",
     "varRefreshCmd": "cat(var_dic_list()) "
    }
   },
   "types_to_exclude": [
    "module",
    "function",
    "builtin_function_or_method",
    "instance",
    "_Feature"
   ],
   "window_display": false
  },
  "vscode": {
   "interpreter": {
    "hash": "94f538a246db0fa2df5e0015ac38ebae58f4075808dc245f921dd0fb55023058"
   }
  }
 },
 "nbformat": 4,
 "nbformat_minor": 5
}

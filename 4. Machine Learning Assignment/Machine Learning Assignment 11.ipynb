{
 "cells": [
  {
   "cell_type": "markdown",
   "id": "2c9ab337",
   "metadata": {},
   "source": [
    "![image](https://user-images.githubusercontent.com/57321948/196933065-4b16c235-f3b9-4391-9cfe-4affcec87c35.png)\n",
    "\n",
    "# Name : Mohammad Wasiq\n",
    "## Email : gl0427@myamu.ac.in\n",
    "### Machine Learning Assignment 11"
   ]
  },
  {
   "cell_type": "markdown",
   "id": "70f533e9",
   "metadata": {},
   "source": [
    "**Question 1 :** Given X be a discrete random variable with the following PMF\n",
    "\n",
    "$$\n",
    "P_X(x)= \n",
    "\\begin{cases}\n",
    "0.1 \\,\\, for \\,\\, x=0.2 \\\\\n",
    "0.2 \\,\\, for \\,\\, x=0.4 \\\\\n",
    "0.2 \\,\\, for \\,\\, x=0.5 \\\\\n",
    "0.3 \\,\\, for \\,\\, x=0.8 \\\\\n",
    "0.2 \\,\\, for \\,\\, x=1 \\\\\n",
    "0 \\,\\, otherwise\n",
    "\\end{cases}\n",
    "$$\n",
    "\n",
    "    1. Find the range RX of the random variable X.\n",
    "    2. Find P(X ≤ 0.5)\n",
    "    3. Find P(0.25 < X < .75)\n",
    "    4. P(X = 0.2|X < 0.6)"
   ]
  },
  {
   "cell_type": "markdown",
   "id": "f0d69e0c",
   "metadata": {},
   "source": []
  },
  {
   "cell_type": "markdown",
   "id": "0297fadf",
   "metadata": {},
   "source": [
    "**Question 2 :** Two equal and fair dice are rolled, and we observed two numbers X and Y.\n",
    "\n",
    "<br> 1. Find RX, RY, and the PMFs of X and Y.\n",
    "<br> 2. Find P(X = 2,Y = 6).\n",
    "<br> 3. Find P(X&gt;3|Y = 2).\n",
    "<br> 4. If Z = X + Y. Find the range and PMF of Z.\n",
    "<br> 5. Find P(X = 4|Z = 8)"
   ]
  },
  {
   "cell_type": "markdown",
   "id": "a5fcc7d1",
   "metadata": {},
   "source": [
    "**Answer :** Since two fair dice are rolled, X and Y can take values from 1 to 6 with equal probability. \n",
    "<br> Therefore, \n",
    "\n",
    "1. \n",
    "RX = RY = {1, 2, 3, 4, 5, 6}. \n",
    "\n",
    "The PMF of X and Y is given by: \n",
    "\n",
    "**P(X = k) = P(Y = k) = 1/6 for k = 1, 2, 3, 4, 5, 6**\n",
    "\n",
    "2. **P(X = 2,Y = 6) = P(X = 2) * P(Y = 6) = 1/6 * 1/6 = 1/36**\n",
    "\n",
    "3. P(X>3|Y=2) = P(X>3∩Y=2)/P(Y=2) = P(X>3∩Y=2)/P(Y=2∩X≤6) \n",
    "\n",
    "Since X cannot be more than 6 \n",
    "\n",
    "**P(X>3∩Y=2)/P(Y=2) = P(X>3) * P(Y=2) / P(Y=2) = P(X>3) = 3/6 = 1/2**\n",
    "\n",
    "4. 4.\tThe range of Z is the set of all possible values that Z can take. Since Z = X + Y, the range of Z is the set of all possible sums of values of X and Y. If X and Y are both discrete random variables, then Z is also a discrete random variable, and we can find its probability mass function (PMF) as follows:\n",
    "\n",
    "PMF of Z(z) = P(Z = z) = P(X + Y = z)\n",
    "\n",
    "We can compute the PMF of Z by considering all possible combinations of values of X and Y that add up to z:\n",
    "\n",
    "PMF of Z(z) = Σ P(X = x, Y = z - x)\n",
    "\n",
    "where the sum is taken over all possible values of x such that x + (z - x) = z.\n",
    "\n",
    "5. Using Bayes' theorem, we have:\n",
    "\n",
    "P(X = 4|Z = 8) = P(X = 4, Y = 4|Z = 8) / P(Z = 8)\n",
    "\n",
    "Since Z = X + Y, we can rewrite the numerator as:\n",
    "\n",
    "P(X = 4, Y = 4|Z = 8) = P(X = 4, Y = 4, X + Y = 8)\n",
    "\n",
    "Since X and Y are independent, we have:\n",
    "\n",
    "P(X = 4, Y = 4, X + Y = 8) = P(X = 4) * P(Y = 4) = e^(-λ) * λ^4 / 4! * e^(-λ) * λ^4 / 4!\n",
    "\n",
    "where λ = α + β. Thus,\n",
    "\n",
    "P(X = 4|Z = 8) = (e^(-λ) * λ^4 / 4! * e^(-λ) * λ^4 / 4!) / P(Z = 8)\n",
    "\n",
    "where P(Z = 8) is given by the PMF of Z that we computed in part (4)."
   ]
  },
  {
   "cell_type": "markdown",
   "id": "e723396b",
   "metadata": {},
   "source": [
    "**Question 3 :** In an exam, there were 20 multiple-choice questions. Each question had 44 possible options. A student knew the answer to 10 questions, but the other 10 questions were unknown to him, and he chose answers randomly. If the student X&#39;s score is equal to the total number of correct answers, then find out the PMF of X. What is $P(X > 15)$?"
   ]
  },
  {
   "cell_type": "markdown",
   "id": "845e23b3",
   "metadata": {},
   "source": [
    "**Answer :**\n",
    "\n",
    "3.\tLet X be the number of correct answers. Since the student knew the answer to 10 questions, X has a binomial distribution with parameters n=20 and p=10/44, where n is the number of trials (number of questions) and p is the probability of success (getting the correct answer).\n",
    "\n",
    "The PMF of X is given by:\n",
    "\n",
    "P(X=k) = (n choose k) * p^k * (1-p)^(n-k)\n",
    "\n",
    "where (n choose k) is the binomial coefficient which represents the number of ways to choose k correct answers out of n questions.\n",
    "\n",
    "For k = 0 to 10, P(X=k) = 0 because the student knew the answer to 10 questions.\n",
    "\n",
    "For k = 11 to 20, $P(X=k) = {20 \\choose k} * (10/44)^k * (34/44)^{(20-k)}$\n",
    "\n",
    "To find P(X>15), we can sum the probabilities for k = 16 to 20:\n",
    "\n",
    "$P(X>15) = P(X=16) + P(X=17) + P(X=18) + P(X=19) + P(X=20) = {20 \\choose 16} * (10/44)^{16} * (34/44)^4 + {20 \\choose 17} * (10/44)^{17} * (34/44)^3 + {20 \\choose 18} * (10/44)^{18}$\n"
   ]
  },
  {
   "cell_type": "markdown",
   "id": "b48a7e4e",
   "metadata": {},
   "source": [
    "**Question 4 :** The number of students arriving at a college between a time interval is a Poisson random variable. On average, 10 students arrive per hour. Let Y be the number of students arriving from 10 am to 11:30 am. What is P(10 < Y ≤ 15)?"
   ]
  },
  {
   "cell_type": "markdown",
   "id": "b188a43f",
   "metadata": {},
   "source": [
    "**Answer :**\t\n"
   ]
  },
  {
   "cell_type": "markdown",
   "id": "08976130",
   "metadata": {},
   "source": [
    "**Question 5 :** Two independent random variables, X and Y,are given such that $X \\sim Poisson(\\alpha)$ and $Y \\sim Poisson(\\beta)$. \n",
    "<br> State a new random variable as Z = X + Y. \n",
    "\n",
    "Find out the PMF of Z."
   ]
  },
  {
   "cell_type": "markdown",
   "id": "b6f345a6",
   "metadata": {},
   "source": []
  }
 ],
 "metadata": {
  "kernelspec": {
   "display_name": "Python 3 (ipykernel)",
   "language": "python",
   "name": "python3"
  },
  "language_info": {
   "codemirror_mode": {
    "name": "ipython",
    "version": 3
   },
   "file_extension": ".py",
   "mimetype": "text/x-python",
   "name": "python",
   "nbconvert_exporter": "python",
   "pygments_lexer": "ipython3",
   "version": "3.9.12"
  },
  "latex_envs": {
   "LaTeX_envs_menu_present": true,
   "autoclose": false,
   "autocomplete": true,
   "bibliofile": "biblio.bib",
   "cite_by": "apalike",
   "current_citInitial": 1,
   "eqLabelWithNumbers": true,
   "eqNumInitial": 1,
   "hotkeys": {
    "equation": "Ctrl-E",
    "itemize": "Ctrl-I"
   },
   "labels_anchors": false,
   "latex_user_defs": false,
   "report_style_numbering": false,
   "user_envs_cfg": false
  },
  "nbTranslate": {
   "displayLangs": [
    "*"
   ],
   "hotkey": "alt-t",
   "langInMainMenu": true,
   "sourceLang": "en",
   "targetLang": "fr",
   "useGoogleTranslate": true
  },
  "toc": {
   "base_numbering": 1,
   "nav_menu": {},
   "number_sections": true,
   "sideBar": true,
   "skip_h1_title": false,
   "title_cell": "Table of Contents",
   "title_sidebar": "Contents",
   "toc_cell": false,
   "toc_position": {},
   "toc_section_display": true,
   "toc_window_display": false
  },
  "varInspector": {
   "cols": {
    "lenName": 16,
    "lenType": 16,
    "lenVar": 40
   },
   "kernels_config": {
    "python": {
     "delete_cmd_postfix": "",
     "delete_cmd_prefix": "del ",
     "library": "var_list.py",
     "varRefreshCmd": "print(var_dic_list())"
    },
    "r": {
     "delete_cmd_postfix": ") ",
     "delete_cmd_prefix": "rm(",
     "library": "var_list.r",
     "varRefreshCmd": "cat(var_dic_list()) "
    }
   },
   "types_to_exclude": [
    "module",
    "function",
    "builtin_function_or_method",
    "instance",
    "_Feature"
   ],
   "window_display": false
  }
 },
 "nbformat": 4,
 "nbformat_minor": 5
}
